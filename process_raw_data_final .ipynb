{
 "cells": [
  {
   "cell_type": "code",
   "execution_count": 2,
   "metadata": {},
   "outputs": [],
   "source": [
    "import os\n",
    "import pandas as pd"
   ]
  },
  {
   "cell_type": "code",
   "execution_count": 7,
   "metadata": {},
   "outputs": [
    {
     "name": "stdout",
     "output_type": "stream",
     "text": [
      "Accessing business...\n",
      "510  files extracted!\n",
      "Accessing entertainment...\n",
      "386  files extracted!\n",
      "Accessing politics...\n",
      "417  files extracted!\n",
      "Accessing sport...\n",
      "511  files extracted!\n",
      "Accessing tech...\n",
      "401  files extracted!\n"
     ]
    }
   ],
   "source": [
    "# set file path\n",
    "directory = os.getcwd()+'/bbc'\n",
    "\n",
    "# define dict to store exracted data\n",
    "news_dict={\"Headline\":[],\"Introduction\":[],\"Body\":[],\"Category\":[]}\n",
    "    \n",
    "for folder in os.listdir(directory):\n",
    "    folder_name = os.fsdecode(folder)\n",
    "    print(f'Accessing {folder_name}...')\n",
    "    count=0\n",
    "    for file in os.listdir(f'{directory}/{folder_name}'):\n",
    "        with open(f'{directory}/{folder_name}/{file}', encoding = 'cp1252') as f:\n",
    "            list = f.readlines()\n",
    "            list = [i for i in list if i!='\\n']\n",
    "            news_dict[\"Headline\"].append(list[0].replace('\\n', ''))\n",
    "            news_dict[\"Introduction\"].append(list[1].replace('\\n', ''))\n",
    "            news_dict[\"Body\"].append(list[2].replace('\\n', ''))\n",
    "            news_dict[\"Category\"].append(folder_name)\n",
    "        count+=1\n",
    "    print(count,\" files extracted!\")"
   ]
  },
  {
   "cell_type": "code",
   "execution_count": 8,
   "metadata": {
    "scrolled": true
   },
   "outputs": [
    {
     "data": {
      "text/html": [
       "<div>\n",
       "<style scoped>\n",
       "    .dataframe tbody tr th:only-of-type {\n",
       "        vertical-align: middle;\n",
       "    }\n",
       "\n",
       "    .dataframe tbody tr th {\n",
       "        vertical-align: top;\n",
       "    }\n",
       "\n",
       "    .dataframe thead th {\n",
       "        text-align: right;\n",
       "    }\n",
       "</style>\n",
       "<table border=\"1\" class=\"dataframe\">\n",
       "  <thead>\n",
       "    <tr style=\"text-align: right;\">\n",
       "      <th></th>\n",
       "      <th>Headline</th>\n",
       "      <th>Introduction</th>\n",
       "      <th>Body</th>\n",
       "      <th>Category</th>\n",
       "    </tr>\n",
       "  </thead>\n",
       "  <tbody>\n",
       "    <tr>\n",
       "      <th>0</th>\n",
       "      <td>Ad sales boost Time Warner profit</td>\n",
       "      <td>Quarterly profits at US media giant TimeWarner...</td>\n",
       "      <td>The firm, which is now one of the biggest inve...</td>\n",
       "      <td>business</td>\n",
       "    </tr>\n",
       "    <tr>\n",
       "      <th>1</th>\n",
       "      <td>Dollar gains on Greenspan speech</td>\n",
       "      <td>The dollar has hit its highest level against t...</td>\n",
       "      <td>And Alan Greenspan highlighted the US governme...</td>\n",
       "      <td>business</td>\n",
       "    </tr>\n",
       "    <tr>\n",
       "      <th>2</th>\n",
       "      <td>Yukos unit buyer faces loan claim</td>\n",
       "      <td>The owners of embattled Russian oil giant Yuko...</td>\n",
       "      <td>State-owned Rosneft bought the Yugansk unit fo...</td>\n",
       "      <td>business</td>\n",
       "    </tr>\n",
       "    <tr>\n",
       "      <th>3</th>\n",
       "      <td>High fuel prices hit BA's profits</td>\n",
       "      <td>British Airways has blamed high fuel prices fo...</td>\n",
       "      <td>Reporting its results for the three months to ...</td>\n",
       "      <td>business</td>\n",
       "    </tr>\n",
       "    <tr>\n",
       "      <th>4</th>\n",
       "      <td>Pernod takeover talk lifts Domecq</td>\n",
       "      <td>Shares in UK drinks and food firm Allied Domec...</td>\n",
       "      <td>Reports in the Wall Street Journal and the Fin...</td>\n",
       "      <td>business</td>\n",
       "    </tr>\n",
       "  </tbody>\n",
       "</table>\n",
       "</div>"
      ],
      "text/plain": [
       "                            Headline  \\\n",
       "0  Ad sales boost Time Warner profit   \n",
       "1   Dollar gains on Greenspan speech   \n",
       "2  Yukos unit buyer faces loan claim   \n",
       "3  High fuel prices hit BA's profits   \n",
       "4  Pernod takeover talk lifts Domecq   \n",
       "\n",
       "                                        Introduction  \\\n",
       "0  Quarterly profits at US media giant TimeWarner...   \n",
       "1  The dollar has hit its highest level against t...   \n",
       "2  The owners of embattled Russian oil giant Yuko...   \n",
       "3  British Airways has blamed high fuel prices fo...   \n",
       "4  Shares in UK drinks and food firm Allied Domec...   \n",
       "\n",
       "                                                Body  Category  \n",
       "0  The firm, which is now one of the biggest inve...  business  \n",
       "1  And Alan Greenspan highlighted the US governme...  business  \n",
       "2  State-owned Rosneft bought the Yugansk unit fo...  business  \n",
       "3  Reporting its results for the three months to ...  business  \n",
       "4  Reports in the Wall Street Journal and the Fin...  business  "
      ]
     },
     "execution_count": 8,
     "metadata": {},
     "output_type": "execute_result"
    }
   ],
   "source": [
    "# Prepare dataframe from generated dict\n",
    "df = pd.DataFrame(news_dict)\n",
    "df.head()"
   ]
  },
  {
   "cell_type": "code",
   "execution_count": 31,
   "metadata": {},
   "outputs": [],
   "source": [
    "# save dataframe in csv format\n",
    "df.to_csv('news_data.csv',index=None)"
   ]
  }
 ],
 "metadata": {
  "kernelspec": {
   "display_name": "Python 3 (ipykernel)",
   "language": "python",
   "name": "python3"
  },
  "language_info": {
   "codemirror_mode": {
    "name": "ipython",
    "version": 3
   },
   "file_extension": ".py",
   "mimetype": "text/x-python",
   "name": "python",
   "nbconvert_exporter": "python",
   "pygments_lexer": "ipython3",
   "version": "3.9.5"
  }
 },
 "nbformat": 4,
 "nbformat_minor": 4
}
