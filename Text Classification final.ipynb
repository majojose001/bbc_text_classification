{
 "cells": [
  {
   "cell_type": "markdown",
   "metadata": {},
   "source": [
    "## 1. Import Libraries "
   ]
  },
  {
   "cell_type": "code",
   "execution_count": 86,
   "metadata": {},
   "outputs": [],
   "source": [
    "import pandas as pd\n",
    "import numpy as np\n",
    "import seaborn as sns\n",
    "import matplotlib.pyplot as plt\n",
    "from nltk.tokenize import word_tokenize\n",
    "from nltk import pos_tag\n",
    "from nltk.corpus import stopwords\n",
    "from nltk.stem import WordNetLemmatizer\n",
    "from sklearn.preprocessing import LabelEncoder\n",
    "from collections import defaultdict\n",
    "from nltk.corpus import wordnet as wn\n",
    "from sklearn.feature_extraction.text import TfidfVectorizer\n",
    "from sklearn import model_selection, naive_bayes, svm\n",
    "from sklearn.ensemble import RandomForestClassifier  \n",
    "from sklearn.metrics import accuracy_score,recall_score,precision_score,confusion_matrix"
   ]
  },
  {
   "cell_type": "markdown",
   "metadata": {},
   "source": [
    "## 2. Load processed dataset"
   ]
  },
  {
   "cell_type": "code",
   "execution_count": 87,
   "metadata": {},
   "outputs": [
    {
     "data": {
      "text/html": [
       "<div>\n",
       "<style scoped>\n",
       "    .dataframe tbody tr th:only-of-type {\n",
       "        vertical-align: middle;\n",
       "    }\n",
       "\n",
       "    .dataframe tbody tr th {\n",
       "        vertical-align: top;\n",
       "    }\n",
       "\n",
       "    .dataframe thead th {\n",
       "        text-align: right;\n",
       "    }\n",
       "</style>\n",
       "<table border=\"1\" class=\"dataframe\">\n",
       "  <thead>\n",
       "    <tr style=\"text-align: right;\">\n",
       "      <th></th>\n",
       "      <th>Headline</th>\n",
       "      <th>Introduction</th>\n",
       "      <th>Body</th>\n",
       "      <th>Category</th>\n",
       "    </tr>\n",
       "  </thead>\n",
       "  <tbody>\n",
       "    <tr>\n",
       "      <th>0</th>\n",
       "      <td>Ad sales boost Time Warner profit</td>\n",
       "      <td>Quarterly profits at US media giant TimeWarner...</td>\n",
       "      <td>The firm, which is now one of the biggest inve...</td>\n",
       "      <td>business</td>\n",
       "    </tr>\n",
       "    <tr>\n",
       "      <th>1</th>\n",
       "      <td>Dollar gains on Greenspan speech</td>\n",
       "      <td>The dollar has hit its highest level against t...</td>\n",
       "      <td>And Alan Greenspan highlighted the US governme...</td>\n",
       "      <td>business</td>\n",
       "    </tr>\n",
       "    <tr>\n",
       "      <th>2</th>\n",
       "      <td>Yukos unit buyer faces loan claim</td>\n",
       "      <td>The owners of embattled Russian oil giant Yuko...</td>\n",
       "      <td>State-owned Rosneft bought the Yugansk unit fo...</td>\n",
       "      <td>business</td>\n",
       "    </tr>\n",
       "    <tr>\n",
       "      <th>3</th>\n",
       "      <td>High fuel prices hit BA's profits</td>\n",
       "      <td>British Airways has blamed high fuel prices fo...</td>\n",
       "      <td>Reporting its results for the three months to ...</td>\n",
       "      <td>business</td>\n",
       "    </tr>\n",
       "    <tr>\n",
       "      <th>4</th>\n",
       "      <td>Pernod takeover talk lifts Domecq</td>\n",
       "      <td>Shares in UK drinks and food firm Allied Domec...</td>\n",
       "      <td>Reports in the Wall Street Journal and the Fin...</td>\n",
       "      <td>business</td>\n",
       "    </tr>\n",
       "  </tbody>\n",
       "</table>\n",
       "</div>"
      ],
      "text/plain": [
       "                            Headline  \\\n",
       "0  Ad sales boost Time Warner profit   \n",
       "1   Dollar gains on Greenspan speech   \n",
       "2  Yukos unit buyer faces loan claim   \n",
       "3  High fuel prices hit BA's profits   \n",
       "4  Pernod takeover talk lifts Domecq   \n",
       "\n",
       "                                        Introduction  \\\n",
       "0  Quarterly profits at US media giant TimeWarner...   \n",
       "1  The dollar has hit its highest level against t...   \n",
       "2  The owners of embattled Russian oil giant Yuko...   \n",
       "3  British Airways has blamed high fuel prices fo...   \n",
       "4  Shares in UK drinks and food firm Allied Domec...   \n",
       "\n",
       "                                                Body  Category  \n",
       "0  The firm, which is now one of the biggest inve...  business  \n",
       "1  And Alan Greenspan highlighted the US governme...  business  \n",
       "2  State-owned Rosneft bought the Yugansk unit fo...  business  \n",
       "3  Reporting its results for the three months to ...  business  \n",
       "4  Reports in the Wall Street Journal and the Fin...  business  "
      ]
     },
     "execution_count": 87,
     "metadata": {},
     "output_type": "execute_result"
    }
   ],
   "source": [
    "data = pd.read_csv('news_data.csv')\n",
    "data.head()"
   ]
  },
  {
   "cell_type": "markdown",
   "metadata": {},
   "source": [
    "## 3. Prepare and Pre-process the data "
   ]
  },
  {
   "cell_type": "markdown",
   "metadata": {},
   "source": [
    "> 1. For the testing, the body part of the news is considered along with target categories.\n",
    "> 2. All the text in the dataset will converted to lower case to keep the same meaning for similar words\n",
    "> 3. Then each record in the set will be tokenized for further process"
   ]
  },
  {
   "cell_type": "code",
   "execution_count": 98,
   "metadata": {
    "scrolled": true
   },
   "outputs": [
    {
     "data": {
      "text/html": [
       "<div>\n",
       "<style scoped>\n",
       "    .dataframe tbody tr th:only-of-type {\n",
       "        vertical-align: middle;\n",
       "    }\n",
       "\n",
       "    .dataframe tbody tr th {\n",
       "        vertical-align: top;\n",
       "    }\n",
       "\n",
       "    .dataframe thead th {\n",
       "        text-align: right;\n",
       "    }\n",
       "</style>\n",
       "<table border=\"1\" class=\"dataframe\">\n",
       "  <thead>\n",
       "    <tr style=\"text-align: right;\">\n",
       "      <th></th>\n",
       "      <th>Body</th>\n",
       "      <th>Category</th>\n",
       "      <th>processed</th>\n",
       "    </tr>\n",
       "  </thead>\n",
       "  <tbody>\n",
       "    <tr>\n",
       "      <th>0</th>\n",
       "      <td>the firm, which is now one of the biggest inve...</td>\n",
       "      <td>business</td>\n",
       "      <td>[the, firm, ,, which, is, now, one, of, the, b...</td>\n",
       "    </tr>\n",
       "    <tr>\n",
       "      <th>1</th>\n",
       "      <td>and alan greenspan highlighted the us governme...</td>\n",
       "      <td>business</td>\n",
       "      <td>[and, alan, greenspan, highlighted, the, us, g...</td>\n",
       "    </tr>\n",
       "    <tr>\n",
       "      <th>2</th>\n",
       "      <td>state-owned rosneft bought the yugansk unit fo...</td>\n",
       "      <td>business</td>\n",
       "      <td>[state-owned, rosneft, bought, the, yugansk, u...</td>\n",
       "    </tr>\n",
       "    <tr>\n",
       "      <th>3</th>\n",
       "      <td>reporting its results for the three months to ...</td>\n",
       "      <td>business</td>\n",
       "      <td>[reporting, its, results, for, the, three, mon...</td>\n",
       "    </tr>\n",
       "    <tr>\n",
       "      <th>4</th>\n",
       "      <td>reports in the wall street journal and the fin...</td>\n",
       "      <td>business</td>\n",
       "      <td>[reports, in, the, wall, street, journal, and,...</td>\n",
       "    </tr>\n",
       "  </tbody>\n",
       "</table>\n",
       "</div>"
      ],
      "text/plain": [
       "                                                Body  Category  \\\n",
       "0  the firm, which is now one of the biggest inve...  business   \n",
       "1  and alan greenspan highlighted the us governme...  business   \n",
       "2  state-owned rosneft bought the yugansk unit fo...  business   \n",
       "3  reporting its results for the three months to ...  business   \n",
       "4  reports in the wall street journal and the fin...  business   \n",
       "\n",
       "                                           processed  \n",
       "0  [the, firm, ,, which, is, now, one, of, the, b...  \n",
       "1  [and, alan, greenspan, highlighted, the, us, g...  \n",
       "2  [state-owned, rosneft, bought, the, yugansk, u...  \n",
       "3  [reporting, its, results, for, the, three, mon...  \n",
       "4  [reports, in, the, wall, street, journal, and,...  "
      ]
     },
     "execution_count": 98,
     "metadata": {},
     "output_type": "execute_result"
    }
   ],
   "source": [
    "# Make a copy of dataset\n",
    "df=data[['Body','Category']].copy()\n",
    "# get a list target classes\n",
    "targets=df.Category.unique().tolist()\n",
    "# Convert text in the each columns to lowercase\n",
    "df = df.astype(str).apply(lambda x: x.str.lower())\n",
    "# Tokenization : In this each entry in the dataset will be broken into set of words\n",
    "df['processed']= [word_tokenize(entry) for entry in df['Body']]\n",
    "df.head()"
   ]
  },
  {
   "cell_type": "markdown",
   "metadata": {},
   "source": [
    "> 4. As the next step, All the stop words such as \"the”, “is”, “in”, “for” etc will be removed along with non alphabetic words.\n",
    "> 5. Then the Lemmatization process will applied on each token."
   ]
  },
  {
   "cell_type": "code",
   "execution_count": 99,
   "metadata": {},
   "outputs": [
    {
     "data": {
      "text/html": [
       "<div>\n",
       "<style scoped>\n",
       "    .dataframe tbody tr th:only-of-type {\n",
       "        vertical-align: middle;\n",
       "    }\n",
       "\n",
       "    .dataframe tbody tr th {\n",
       "        vertical-align: top;\n",
       "    }\n",
       "\n",
       "    .dataframe thead th {\n",
       "        text-align: right;\n",
       "    }\n",
       "</style>\n",
       "<table border=\"1\" class=\"dataframe\">\n",
       "  <thead>\n",
       "    <tr style=\"text-align: right;\">\n",
       "      <th></th>\n",
       "      <th>Body</th>\n",
       "      <th>Category</th>\n",
       "      <th>processed</th>\n",
       "    </tr>\n",
       "  </thead>\n",
       "  <tbody>\n",
       "    <tr>\n",
       "      <th>0</th>\n",
       "      <td>the firm, which is now one of the biggest inve...</td>\n",
       "      <td>business</td>\n",
       "      <td>['firm', 'one', 'big', 'investor', 'google', '...</td>\n",
       "    </tr>\n",
       "    <tr>\n",
       "      <th>1</th>\n",
       "      <td>and alan greenspan highlighted the us governme...</td>\n",
       "      <td>business</td>\n",
       "      <td>['alan', 'greenspan', 'highlight', 'u', 'gover...</td>\n",
       "    </tr>\n",
       "    <tr>\n",
       "      <th>2</th>\n",
       "      <td>state-owned rosneft bought the yugansk unit fo...</td>\n",
       "      <td>business</td>\n",
       "      <td>['rosneft', 'buy', 'yugansk', 'unit', 'sale', ...</td>\n",
       "    </tr>\n",
       "    <tr>\n",
       "      <th>3</th>\n",
       "      <td>reporting its results for the three months to ...</td>\n",
       "      <td>business</td>\n",
       "      <td>['report', 'result', 'three', 'month', 'decemb...</td>\n",
       "    </tr>\n",
       "    <tr>\n",
       "      <th>4</th>\n",
       "      <td>reports in the wall street journal and the fin...</td>\n",
       "      <td>business</td>\n",
       "      <td>['report', 'wall', 'street', 'journal', 'finan...</td>\n",
       "    </tr>\n",
       "  </tbody>\n",
       "</table>\n",
       "</div>"
      ],
      "text/plain": [
       "                                                Body  Category  \\\n",
       "0  the firm, which is now one of the biggest inve...  business   \n",
       "1  and alan greenspan highlighted the us governme...  business   \n",
       "2  state-owned rosneft bought the yugansk unit fo...  business   \n",
       "3  reporting its results for the three months to ...  business   \n",
       "4  reports in the wall street journal and the fin...  business   \n",
       "\n",
       "                                           processed  \n",
       "0  ['firm', 'one', 'big', 'investor', 'google', '...  \n",
       "1  ['alan', 'greenspan', 'highlight', 'u', 'gover...  \n",
       "2  ['rosneft', 'buy', 'yugansk', 'unit', 'sale', ...  \n",
       "3  ['report', 'result', 'three', 'month', 'decemb...  \n",
       "4  ['report', 'wall', 'street', 'journal', 'finan...  "
      ]
     },
     "execution_count": 99,
     "metadata": {},
     "output_type": "execute_result"
    }
   ],
   "source": [
    "# Remove Stop words, Non-Numeric and perfom Word Lemmenting.\n",
    "col = 'processed'\n",
    "tag_map = defaultdict(lambda : wn.NOUN)\n",
    "tag_map['J'] = wn.ADJ\n",
    "tag_map['V'] = wn.VERB\n",
    "tag_map['R'] = wn.ADV\n",
    "\n",
    "for index,text in enumerate(df[col]):\n",
    "    Final_words = []\n",
    "    word_Lemmatized = WordNetLemmatizer()\n",
    "    for word, tag in pos_tag(text):\n",
    "        if word not in stopwords.words('english') and word.isalpha():\n",
    "            word_Final = word_Lemmatized.lemmatize(word,tag_map[tag[0]])\n",
    "            Final_words.append(word_Final)\n",
    "    df.loc[index,'processed'] = str(Final_words)\n",
    "df.head()"
   ]
  },
  {
   "cell_type": "markdown",
   "metadata": {},
   "source": [
    "> 6. The whole dataset will be splitted in to train and test set based on the catgeories. Instead of splitting the dataset in a random manner, fixed proportion of each category are taken for the test-train split. Here 80% of each class are taken for the training set"
   ]
  },
  {
   "cell_type": "code",
   "execution_count": 100,
   "metadata": {},
   "outputs": [
    {
     "name": "stdout",
     "output_type": "stream",
     "text": [
      "(1781,) (1781,) (444,) (444,)\n"
     ]
    }
   ],
   "source": [
    "# Split dataset into train and split\n",
    "train_df = pd.DataFrame()\n",
    "test_df = pd.DataFrame()\n",
    "\n",
    "for label in df.Category.unique().tolist():\n",
    "    train_split=df[df.Category==label].sample(frac=0.80)\n",
    "    test_split=df[df.Category==label].drop(train_split.index)\n",
    "    train_df = train_df.append(train_split)\n",
    "    test_df = test_df.append(test_split) \n",
    "    \n",
    "train_x,train_y = train_df.iloc[:,2],train_df.iloc[:,1]\n",
    "test_x,test_y = test_df.iloc[:,2],test_df.iloc[:,1]\n",
    "print(train_x.shape,train_y.shape,test_x.shape,test_y.shape)"
   ]
  },
  {
   "cell_type": "markdown",
   "metadata": {},
   "source": [
    "> 7. Target columns of both sets will be encoded. ie, each class will be replaaced with numeric values like 0,1,2,3,4."
   ]
  },
  {
   "cell_type": "code",
   "execution_count": 101,
   "metadata": {},
   "outputs": [
    {
     "name": "stdout",
     "output_type": "stream",
     "text": [
      "(1781,) (444,)\n"
     ]
    }
   ],
   "source": [
    "# Encoding\n",
    "Encoder = LabelEncoder()\n",
    "train_y = Encoder.fit_transform(train_y)\n",
    "test_y = Encoder.fit_transform(test_y)\n",
    "print(train_y.shape,test_y.shape)"
   ]
  },
  {
   "cell_type": "markdown",
   "metadata": {},
   "source": [
    "> 8. As final step, the processed words will be further vectorized for the prediction algorithms."
   ]
  },
  {
   "cell_type": "code",
   "execution_count": 102,
   "metadata": {},
   "outputs": [
    {
     "name": "stdout",
     "output_type": "stream",
     "text": [
      "(1781, 4238) (444, 4238)\n"
     ]
    }
   ],
   "source": [
    "# Word Vectorization\n",
    "Tfidf_vect = TfidfVectorizer(min_df=5, norm='l2',ngram_range=(1, 2),)\n",
    "Tfidf_vect.fit(df[col])\n",
    "Train_X_Tfidf = Tfidf_vect.transform(train_x)\n",
    "Test_X_Tfidf = Tfidf_vect.transform(test_x)\n",
    "print(Train_X_Tfidf.shape,Test_X_Tfidf.shape)"
   ]
  },
  {
   "cell_type": "markdown",
   "metadata": {},
   "source": [
    "## 4. Use the ML Algorithms to Predict the outcome"
   ]
  },
  {
   "cell_type": "markdown",
   "metadata": {},
   "source": [
    "> Since the data is available in the labelled format, The type models chosen here are supervised machine learning algorithms. The different classification models given below are used for the comparison.\n",
    ">> - In order to analyse the model performance, four different matrics such as Accuracy, precission, recall and f1-score are taken along with the confusion matrix.\n",
    ">> - The train and test split taken are same for all the three models\n",
    ">> - 1899 samples are taken for the training set and 334 samples are taken for the testing"
   ]
  },
  {
   "cell_type": "markdown",
   "metadata": {},
   "source": [
    "#### 1. Naive Bayes Algorithm"
   ]
  },
  {
   "cell_type": "code",
   "execution_count": 103,
   "metadata": {},
   "outputs": [
    {
     "name": "stdout",
     "output_type": "stream",
     "text": [
      "<---Naive Bayes--->\n",
      "Accuracy : 95.27027027027027\n",
      "Precision: 0.953\n",
      "Recall: 0.951\n",
      "f1_Score: 0.952\n"
     ]
    },
    {
     "data": {
      "image/png": "[encoded data removed]",
      "text/plain": [
       "<Figure size 360x288 with 2 Axes>"
      ]
     },
     "metadata": {
      "needs_background": "light"
     },
     "output_type": "display_data"
    }
   ],
   "source": [
    "# fit the training dataset on the NB classifier\n",
    "Naive = naive_bayes.MultinomialNB()\n",
    "Naive.fit(Train_X_Tfidf,train_y)\n",
    "# predict the labels on validation dataset\n",
    "predictions_NB = Naive.predict(Test_X_Tfidf)\n",
    "\n",
    "\n",
    "# calculate accuracy_score\n",
    "print(\"<---Naive Bayes--->\\nAccuracy :\",accuracy_score(predictions_NB, test_y)*100)\n",
    "# calculate precission\n",
    "precision_NB = precision_score(test_y, predictions_NB, average='macro')\n",
    "print('Precision: %.3f' % precision_NB)\n",
    "# calculate recall\n",
    "recall_NB = recall_score(test_y, predictions_NB, average='macro')\n",
    "print('Recall: %.3f' % recall_NB)\n",
    "# calculate f1-score\n",
    "f1_Score_NB =  (2 * precision_NB * recall_NB) / (precision_NB + recall_NB)\n",
    "print('f1_Score: %.3f' % f1_Score_NB)\n",
    "\n",
    "# Generate Confusion Matrix\n",
    "cm= confusion_matrix(test_y, predictions_NB)\n",
    "cm_df = pd.DataFrame(cm,index = targets, columns = targets)\n",
    "#Plotting the confusion matrix\n",
    "plt.figure(figsize=(5,4))\n",
    "sns.heatmap(cm_df, annot=True)\n",
    "plt.title('Confusion Matrix')\n",
    "plt.ylabel('Actual')\n",
    "plt.xlabel('Predicted')\n",
    "plt.show()"
   ]
  },
  {
   "cell_type": "markdown",
   "metadata": {},
   "source": [
    "#### 2. Support Vector Machine"
   ]
  },
  {
   "cell_type": "code",
   "execution_count": 126,
   "metadata": {},
   "outputs": [
    {
     "name": "stdout",
     "output_type": "stream",
     "text": [
      "SVM Accuracy Score ->  95.04504504504504\n",
      "Precision: 0.950\n",
      "Recall: 0.950\n",
      "f1_Score: 0.950\n"
     ]
    },
    {
     "data": {
      "image/png": "[encoded data removed]",
      "text/plain": [
       "<Figure size 360x288 with 2 Axes>"
      ]
     },
     "metadata": {
      "needs_background": "light"
     },
     "output_type": "display_data"
    }
   ],
   "source": [
    "# Classifier - Algorithm - SVM\n",
    "# fit the training dataset on the classifier\n",
    "SVM = svm.SVC(C=1.0, kernel='linear', degree=5, gamma='auto')\n",
    "SVM.fit(Train_X_Tfidf,train_y)\n",
    "# predict the labels on validation dataset\n",
    "predictions_SVM = SVM.predict(Test_X_Tfidf)\n",
    "\n",
    "# calculate accuracy_score\n",
    "print(\"SVM Accuracy Score -> \",accuracy_score(predictions_SVM, test_y)*100)\n",
    "# calculate precission\n",
    "precision_svm = precision_score(test_y, predictions_SVM, average='micro')\n",
    "print('Precision: %.3f' % precision_svm)\n",
    "# calculate recall\n",
    "recall_svm = recall_score(test_y, predictions_SVM, average='micro')\n",
    "print('Recall: %.3f' % recall_svm)\n",
    "# calculate f1-score\n",
    "f1_Score_svm =  (2 * precision_svm * recall_svm) / (precision_svm + recall_svm)\n",
    "print('f1_Score: %.3f' % f1_Score_svm)\n",
    "\n",
    "# Generate Confusion Matrix\n",
    "cm= confusion_matrix(test_y, predictions_SVM)\n",
    "cm_df = pd.DataFrame(cm,index = targets, columns = targets)\n",
    "#Plotting the confusion matrix\n",
    "plt.figure(figsize=(5,4))\n",
    "sns.heatmap(cm_df, annot=True)\n",
    "plt.title('Confusion Matrix')\n",
    "plt.ylabel('Actual')\n",
    "plt.xlabel('Predicted')\n",
    "plt.show()"
   ]
  },
  {
   "cell_type": "markdown",
   "metadata": {},
   "source": [
    "#### 3. Random Forest Classification"
   ]
  },
  {
   "cell_type": "code",
   "execution_count": 106,
   "metadata": {},
   "outputs": [
    {
     "name": "stdout",
     "output_type": "stream",
     "text": [
      "Random Forest Accuracy Score ->  90.76576576576578\n",
      "Precision: 0.908\n",
      "Recall: 0.908\n",
      "f1_Score: 0.908\n"
     ]
    },
    {
     "data": {
      "image/png": "[encoded data removed]",
      "text/plain": [
       "<Figure size 360x288 with 2 Axes>"
      ]
     },
     "metadata": {
      "needs_background": "light"
     },
     "output_type": "display_data"
    }
   ],
   "source": [
    "RF= RandomForestClassifier(n_estimators= 250,max_features=\"auto\",min_samples_leaf=1)  \n",
    "RF.fit(Train_X_Tfidf,train_y)  \n",
    "predictions_RF = RF.predict(Test_X_Tfidf)\n",
    "\n",
    "# calculate accuracy_score\n",
    "print(\"Random Forest Accuracy Score -> \",accuracy_score(predictions_RF, test_y)*100)\n",
    "# calculate precission\n",
    "precision_RF = precision_score(test_y, predictions_RF, average='micro')\n",
    "print('Precision: %.3f' % precision_RF)\n",
    "# calculate recall\n",
    "recall_RF = recall_score(test_y, predictions_RF, average='micro')\n",
    "print('Recall: %.3f' % recall_RF)\n",
    "# calculate f1-score\n",
    "f1_Score_RF =  (2 * precision_RF * recall_RF) / (precision_RF + recall_RF)\n",
    "print('f1_Score: %.3f' % f1_Score_RF)\n",
    "\n",
    "# Generate Confusion Matrix\n",
    "cm= confusion_matrix(test_y, predictions_RF)\n",
    "cm_df = pd.DataFrame(cm,index = targets, columns = targets)\n",
    "#Plotting the confusion matrix\n",
    "plt.figure(figsize=(5,4))\n",
    "sns.heatmap(cm_df, annot=True)\n",
    "plt.title('Confusion Matrix')\n",
    "plt.ylabel('Actual')\n",
    "plt.xlabel('Predicted')\n",
    "plt.show()"
   ]
  },
  {
   "cell_type": "markdown",
   "metadata": {},
   "source": [
    "## 5. Performance Comparisson"
   ]
  },
  {
   "attachments": {
    "Screenshot%202022-01-18%20223450.png": {
     "image/png": "[encoded data removed]"
    }
   },
   "cell_type": "markdown",
   "metadata": {},
   "source": [
    "![Screenshot%202022-01-18%20223450.png](attachment:Screenshot%202022-01-18%20223450.png)"
   ]
  },
  {
   "cell_type": "markdown",
   "metadata": {},
   "source": [
    ">- Here the Naive Bayes and the Support vector machine model performs better compares to random forest model.\n",
    ">- As part of Model improvement, parameter tuning can be applied.\n",
    ">- As further steps, the Deep learning models can also be utilised."
   ]
  },
  {
   "cell_type": "markdown",
   "metadata": {},
   "source": [
    "- But when the model is trained with the 'Introduction' column (instead of body), The metrics are varied. We can observe a significant drop in performance. Please see the table given below. "
   ]
  },
  {
   "attachments": {
    "low.png": {
     "image/png": "[encoded data removed]"
    }
   },
   "cell_type": "markdown",
   "metadata": {},
   "source": [
    "![low.png](attachment:low.png)"
   ]
  }
 ],
 "metadata": {
  "kernelspec": {
   "display_name": "Python 3 (ipykernel)",
   "language": "python",
   "name": "python3"
  },
  "language_info": {
   "codemirror_mode": {
    "name": "ipython",
    "version": 3
   },
   "file_extension": ".py",
   "mimetype": "text/x-python",
   "name": "python",
   "nbconvert_exporter": "python",
   "pygments_lexer": "ipython3",
   "version": "3.9.5"
  }
 },
 "nbformat": 4,
 "nbformat_minor": 4
}
